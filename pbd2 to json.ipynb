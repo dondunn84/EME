{
 "cells": [
  {
   "cell_type": "markdown",
   "id": "6374e4db-8477-48bf-b4ef-6fb47e62ad9e",
   "metadata": {},
   "source": [
    "import required package"
   ]
  },
  {
   "cell_type": "code",
   "execution_count": null,
   "id": "fbd693b8-9016-458f-b2ad-b381ef5fc33e",
   "metadata": {},
   "outputs": [],
   "source": [
    "import protobuf\n",
    "import NCP_pb2 #i renamed the pb2 file\n",
    "import binascii\n",
    "import struct\n",
    "import json\n",
    "from google.protobuf.json_format import MessageToDict"
   ]
  },
  {
   "cell_type": "markdown",
   "id": "d2988ed1-b339-49c4-a9fd-692424f524b3",
   "metadata": {},
   "source": [
    "open the file and read into variable data"
   ]
  },
  {
   "cell_type": "code",
   "execution_count": null,
   "id": "cf4454d1-bedc-472c-9e95-3f7844c63f25",
   "metadata": {},
   "outputs": [],
   "source": [
    "#i renamed the pbd2 file\n",
    "with open(\"data.pbd2\", \"rb\") as f:\n",
    "    data = f.read()\n",
    "f.close()"
   ]
  },
  {
   "cell_type": "markdown",
   "id": "b23ad50c-c621-4141-93e5-612c08a4f99b",
   "metadata": {},
   "source": [
    "This is a function that gets the starts and stops of each pbd2 packet and saves them as list of tuples. Example: [(4, 26305), (26309, 52611)]"
   ]
  },
  {
   "cell_type": "code",
   "execution_count": null,
   "id": "1dacde86-9a1d-4c90-af0f-12c04b8f2551",
   "metadata": {},
   "outputs": [],
   "source": [
    "def get_slices(b):\n",
    "    pos = 0\n",
    "    slices=[]\n",
    "    while pos < len(b):\n",
    "        msg_len = struct.unpack('<L', b[pos:pos+4])[0]\n",
    "        slices.append((pos+4, pos+msg_len+4))\n",
    "        pos = pos+msg_len+4\n",
    "    return slices"
   ]
  },
  {
   "cell_type": "markdown",
   "id": "9fb5bd29-fdc6-4996-805a-995e954baefb",
   "metadata": {},
   "source": [
    "Get the slices"
   ]
  },
  {
   "cell_type": "code",
   "execution_count": null,
   "id": "a866fd11-09e5-46a9-8857-b2d7b3c8a763",
   "metadata": {},
   "outputs": [],
   "source": [
    "slices = get_slices(data)"
   ]
  },
  {
   "cell_type": "markdown",
   "id": "884a3914-cc29-42f5-8acf-9dd09abf3c41",
   "metadata": {},
   "source": [
    "setup the Protobuf to read packets"
   ]
  },
  {
   "cell_type": "code",
   "execution_count": null,
   "id": "dd58493d-c2f1-4ba6-9ede-22bdfb4deea1",
   "metadata": {},
   "outputs": [],
   "source": [
    "message = NCP_pb2.DataGeneric()"
   ]
  },
  {
   "cell_type": "markdown",
   "id": "2cbfa0db-9daa-4c98-852e-5d8b91ff9fcf",
   "metadata": {},
   "source": [
    "Function to read message to json"
   ]
  },
  {
   "cell_type": "code",
   "execution_count": null,
   "id": "61f35514-dfcd-48a6-a2ad-b3c36b348b29",
   "metadata": {},
   "outputs": [],
   "source": [
    "def msgs_to_json(slices, data):\n",
    "    messages = []\n",
    "    for s in slices:\n",
    "        start, stop = s\n",
    "        message.ParseFromString(data[start:stop])\n",
    "        messages.append(MessageToDict(message))\n",
    "    return json.dumps(messages, indent=4)"
   ]
  },
  {
   "cell_type": "code",
   "execution_count": null,
   "id": "5928eac0-0e24-4a0b-8e80-9cc3641b8fa7",
   "metadata": {},
   "outputs": [],
   "source": [
    "json_obj = msgs_to_json(slices, data)"
   ]
  },
  {
   "cell_type": "markdown",
   "id": "5ee97664-5e7c-40e3-9520-2cdb2e8ce6b2",
   "metadata": {},
   "source": [
    "write json to file"
   ]
  },
  {
   "cell_type": "code",
   "execution_count": null,
   "id": "3111fada-5ae2-4599-9042-603c65750658",
   "metadata": {},
   "outputs": [],
   "source": [
    "with open(\"sample.json\", \"w\") as f:\n",
    "    f.write(json_obj)\n",
    "f.close()"
   ]
  }
 ],
 "metadata": {
  "kernelspec": {
   "display_name": "Python 3 (ipykernel)",
   "language": "python",
   "name": "python3"
  },
  "language_info": {
   "codemirror_mode": {
    "name": "ipython",
    "version": 3
   },
   "file_extension": ".py",
   "mimetype": "text/x-python",
   "name": "python",
   "nbconvert_exporter": "python",
   "pygments_lexer": "ipython3",
   "version": "3.9.15"
  }
 },
 "nbformat": 4,
 "nbformat_minor": 5
}
