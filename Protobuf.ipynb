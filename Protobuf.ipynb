{
 "cells": [
  {
   "cell_type": "code",
   "execution_count": null,
   "id": "16c6dea3-2e0c-4d8e-b137-01fecbcb6abf",
   "metadata": {},
   "outputs": [],
   "source": [
    "#this is just as single message still need to write a script to loop thought all messages\n",
    "import protobuf\n",
    "import NCP_pb2 #i renamed the pb2 file\n",
    "import binascii\n",
    "import struct\n",
    "import json\n",
    "import numpy as np\n",
    "import holoviews as hv\n",
    "import xarray as xr\n",
    "import ncp #my ncp.py file"
   ]
  },
  {
   "cell_type": "code",
   "execution_count": null,
   "id": "b82f4c95-6e5f-4a49-b347-86cc611ca342",
   "metadata": {},
   "outputs": [],
   "source": [
    "#i renamed the pbd2 file\n",
    "with open(\"data.pbd2\", \"rb\") as f:\n",
    "    data = f.read()\n",
    "f.close()"
   ]
  },
  {
   "cell_type": "code",
   "execution_count": null,
   "id": "28663a3b-b59f-4adf-9d92-ec3a64d26f78",
   "metadata": {},
   "outputs": [],
   "source": [
    "#read first message length\n",
    "msg_length = struct.unpack('<L', data[0:4])[0]\n",
    "msg_length"
   ]
  },
  {
   "cell_type": "code",
   "execution_count": null,
   "id": "9d1ac307-422c-42a1-a5da-a2f19f10ed1c",
   "metadata": {},
   "outputs": [],
   "source": [
    "message = NCP_pb2.DataGeneric()"
   ]
  },
  {
   "cell_type": "code",
   "execution_count": null,
   "id": "3faeb032-3bfb-47cf-a748-84796fa27a70",
   "metadata": {},
   "outputs": [],
   "source": [
    "msg_bytes = data[4:4+msg_length]"
   ]
  },
  {
   "cell_type": "code",
   "execution_count": null,
   "id": "2cc5627e-19ca-47e2-a2a0-1ef493aec143",
   "metadata": {},
   "outputs": [],
   "source": [
    "message.ParseFromString(msg_bytes)"
   ]
  },
  {
   "cell_type": "code",
   "execution_count": null,
   "id": "a5062123-3e48-4b83-8433-6f6ca06d234f",
   "metadata": {},
   "outputs": [],
   "source": [
    "#message.CustomAttributes"
   ]
  },
  {
   "cell_type": "code",
   "execution_count": null,
   "id": "745a1a99-7c4a-4f8a-a5c6-c40bce042416",
   "metadata": {},
   "outputs": [],
   "source": [
    "lvls_bytes = message.Data.Elements[0].TraceData.YDataStore.DsDouble16.Bytes"
   ]
  },
  {
   "cell_type": "code",
   "execution_count": null,
   "id": "5d835ed1-2882-4ac5-8822-985c80a71eab",
   "metadata": {},
   "outputs": [],
   "source": [
    "array = np.array(ncp.convert_lvls(binascii.hexlify(lvls_bytes), 0))\n",
    "freqs = np.linspace(message.Data.Elements[0].IndexStart, message.Data.Elements[0].IndexStop, len(array))/1000000\n",
    "da = xr.DataArray(array, coords=[freqs], dims=['freq'])\n",
    "\n",
    "hv.extension('bokeh')\n",
    "hv.Curve(da).opts(width=1000, tools=['hover'])"
   ]
  },
  {
   "cell_type": "code",
   "execution_count": null,
   "id": "1399d5b1-ba58-4424-adf0-2891676b6021",
   "metadata": {},
   "outputs": [],
   "source": [
    "#message.Data\n",
    "#message.Data.Elements[0].IndexStart\n",
    "da"
   ]
  },
  {
   "cell_type": "code",
   "execution_count": null,
   "id": "253af610-0dd0-4f29-84a1-5bf5735aa556",
   "metadata": {},
   "outputs": [],
   "source": [
    "message.UnixTime"
   ]
  },
  {
   "cell_type": "code",
   "execution_count": null,
   "id": "2d6f41ac-5eda-4358-a7a0-a539dbdf77c1",
   "metadata": {},
   "outputs": [],
   "source": [
    "message.Data"
   ]
  },
  {
   "cell_type": "code",
   "execution_count": null,
   "id": "7e830a28-76a8-456c-9cbc-a47a3ea0e591",
   "metadata": {},
   "outputs": [],
   "source": [
    "from google.protobuf.json_format import MessageToDict"
   ]
  },
  {
   "cell_type": "code",
   "execution_count": null,
   "id": "0be8b190-3f2c-47df-9e22-f7f6385a73cc",
   "metadata": {},
   "outputs": [],
   "source": [
    "MessageToDict(message)"
   ]
  },
  {
   "cell_type": "code",
   "execution_count": null,
   "id": "c07e0792-716f-48a2-9baa-56fdb2c33ba8",
   "metadata": {},
   "outputs": [],
   "source": []
  },
  {
   "cell_type": "code",
   "execution_count": null,
   "id": "2e1f5e45-ac21-49c0-8572-84bdce26e3cc",
   "metadata": {},
   "outputs": [],
   "source": []
  },
  {
   "cell_type": "code",
   "execution_count": null,
   "id": "ae29d356-e360-4f0e-a589-560d020a55ae",
   "metadata": {},
   "outputs": [],
   "source": []
  },
  {
   "cell_type": "code",
   "execution_count": null,
   "id": "fbf3e1c5-1b97-4f23-8934-f27e86102ef7",
   "metadata": {},
   "outputs": [],
   "source": []
  },
  {
   "cell_type": "code",
   "execution_count": null,
   "id": "c54892de-d212-4a64-86af-8adad9767912",
   "metadata": {},
   "outputs": [],
   "source": []
  }
 ],
 "metadata": {
  "kernelspec": {
   "display_name": "Python 3 (ipykernel)",
   "language": "python",
   "name": "python3"
  },
  "language_info": {
   "codemirror_mode": {
    "name": "ipython",
    "version": 3
   },
   "file_extension": ".py",
   "mimetype": "text/x-python",
   "name": "python",
   "nbconvert_exporter": "python",
   "pygments_lexer": "ipython3",
   "version": "3.9.15"
  }
 },
 "nbformat": 4,
 "nbformat_minor": 5
}
